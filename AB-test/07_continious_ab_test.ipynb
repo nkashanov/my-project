{
  "cells": [
    {
      "cell_type": "markdown",
      "metadata": {
        "id": "view-in-github",
        "colab_type": "text"
      },
      "source": [
        "<a href=\"https://colab.research.google.com/github/nkashanov/DS/blob/main/07_continious_ab_test.ipynb\" target=\"_parent\"><img src=\"https://colab.research.google.com/assets/colab-badge.svg\" alt=\"Open In Colab\"/></a>"
      ]
    },
    {
      "cell_type": "markdown",
      "metadata": {
        "tags": [],
        "cell_id": "49587cb8415c40a4bef87f2d91b88c64",
        "is_collapsed": false,
        "formattedRanges": [],
        "deepnote_cell_type": "text-cell-h2",
        "id": "9F0IFJPCyQwE"
      },
      "source": [
        "## А/Б тест: длительность сессии"
      ]
    },
    {
      "cell_type": "code",
      "metadata": {
        "tags": [],
        "cell_id": "0a39697edd0d467f87550752f6e7ff6a",
        "source_hash": "c76c7c51",
        "execution_start": 1676293288518,
        "execution_millis": 2248286,
        "deepnote_to_be_reexecuted": false,
        "deepnote_cell_type": "code",
        "id": "vg74IdO9yQwF"
      },
      "source": [
        "import pandas as pd\n",
        "import numpy as np"
      ],
      "execution_count": null,
      "outputs": []
    },
    {
      "cell_type": "markdown",
      "metadata": {
        "tags": [],
        "is_collapsed": false,
        "formattedRanges": [],
        "cell_id": "0be6f4a2-4920-4391-904c-d70c71af9450",
        "deepnote_cell_type": "text-cell-p",
        "id": "jEhJD5tjyQwG"
      },
      "source": [
        "Представим, что мы сотрудники X и работаем над улучшением рекомендательной системы: какие твиты показывать пользователю, чтобы ему было максимально интересно? Для того чтобы понять, что пользователю \"стало интереснее\", мы решили использовать длительность сессии, т.е. сколько времени пользователь проводит в приложении или на сайте, когда туда заходит."
      ]
    },
    {
      "cell_type": "markdown",
      "source": [
        "# Анализ исходных данных"
      ],
      "metadata": {
        "id": "gpXa28Dty0l-"
      }
    },
    {
      "cell_type": "markdown",
      "metadata": {
        "tags": [],
        "cell_id": "7fffbe85-1fd6-4445-b2a4-e8a72d8d6d44",
        "is_collapsed": false,
        "formattedRanges": [],
        "deepnote_cell_type": "text-cell-p",
        "id": "xSVM9C9qyQwH"
      },
      "source": [
        "Данные по длине пользовательских сессий (в секундах) за последнее время выглядят следующим образом. (Я сгенерирую эти данные с помощью логнормального распределения)."
      ]
    },
    {
      "cell_type": "code",
      "metadata": {
        "tags": [],
        "cell_id": "e3fae01b042e4d08a029c2b5de0a3c07",
        "source_hash": "6a5c3e68",
        "execution_start": 1676293288519,
        "execution_millis": 1,
        "deepnote_to_be_reexecuted": false,
        "deepnote_cell_type": "code",
        "id": "WWgYN2A9yQwH"
      },
      "source": [
        "np.random.seed(0)\n",
        "df = pd.DataFrame({'session_len':np.random.lognormal(6,0.8,size=20000)})"
      ],
      "execution_count": null,
      "outputs": []
    },
    {
      "cell_type": "code",
      "metadata": {
        "tags": [],
        "cell_id": "19cd7aa9b8c047f799a08af0a11c6fd7",
        "source_hash": "c085b6ba",
        "execution_start": 1676293288521,
        "execution_millis": 34,
        "deepnote_to_be_reexecuted": false,
        "deepnote_cell_type": "code",
        "colab": {
          "base_uri": "https://localhost:8080/",
          "height": 206
        },
        "id": "GmVWPgf5yQwH",
        "outputId": "33464749-21d0-474b-8f1f-081268734835"
      },
      "source": [
        "df.head()"
      ],
      "execution_count": null,
      "outputs": [
        {
          "output_type": "execute_result",
          "data": {
            "text/plain": [
              "   session_len\n",
              "0  1654.479732\n",
              "1   555.642869\n",
              "2   882.704409\n",
              "3  2422.885730\n",
              "4  1797.310019"
            ],
            "text/html": [
              "\n",
              "  <div id=\"df-8d533e02-5f25-465f-b427-9f741de63f1c\" class=\"colab-df-container\">\n",
              "    <div>\n",
              "<style scoped>\n",
              "    .dataframe tbody tr th:only-of-type {\n",
              "        vertical-align: middle;\n",
              "    }\n",
              "\n",
              "    .dataframe tbody tr th {\n",
              "        vertical-align: top;\n",
              "    }\n",
              "\n",
              "    .dataframe thead th {\n",
              "        text-align: right;\n",
              "    }\n",
              "</style>\n",
              "<table border=\"1\" class=\"dataframe\">\n",
              "  <thead>\n",
              "    <tr style=\"text-align: right;\">\n",
              "      <th></th>\n",
              "      <th>session_len</th>\n",
              "    </tr>\n",
              "  </thead>\n",
              "  <tbody>\n",
              "    <tr>\n",
              "      <th>0</th>\n",
              "      <td>1654.479732</td>\n",
              "    </tr>\n",
              "    <tr>\n",
              "      <th>1</th>\n",
              "      <td>555.642869</td>\n",
              "    </tr>\n",
              "    <tr>\n",
              "      <th>2</th>\n",
              "      <td>882.704409</td>\n",
              "    </tr>\n",
              "    <tr>\n",
              "      <th>3</th>\n",
              "      <td>2422.885730</td>\n",
              "    </tr>\n",
              "    <tr>\n",
              "      <th>4</th>\n",
              "      <td>1797.310019</td>\n",
              "    </tr>\n",
              "  </tbody>\n",
              "</table>\n",
              "</div>\n",
              "    <div class=\"colab-df-buttons\">\n",
              "\n",
              "  <div class=\"colab-df-container\">\n",
              "    <button class=\"colab-df-convert\" onclick=\"convertToInteractive('df-8d533e02-5f25-465f-b427-9f741de63f1c')\"\n",
              "            title=\"Convert this dataframe to an interactive table.\"\n",
              "            style=\"display:none;\">\n",
              "\n",
              "  <svg xmlns=\"http://www.w3.org/2000/svg\" height=\"24px\" viewBox=\"0 -960 960 960\">\n",
              "    <path d=\"M120-120v-720h720v720H120Zm60-500h600v-160H180v160Zm220 220h160v-160H400v160Zm0 220h160v-160H400v160ZM180-400h160v-160H180v160Zm440 0h160v-160H620v160ZM180-180h160v-160H180v160Zm440 0h160v-160H620v160Z\"/>\n",
              "  </svg>\n",
              "    </button>\n",
              "\n",
              "  <style>\n",
              "    .colab-df-container {\n",
              "      display:flex;\n",
              "      gap: 12px;\n",
              "    }\n",
              "\n",
              "    .colab-df-convert {\n",
              "      background-color: #E8F0FE;\n",
              "      border: none;\n",
              "      border-radius: 50%;\n",
              "      cursor: pointer;\n",
              "      display: none;\n",
              "      fill: #1967D2;\n",
              "      height: 32px;\n",
              "      padding: 0 0 0 0;\n",
              "      width: 32px;\n",
              "    }\n",
              "\n",
              "    .colab-df-convert:hover {\n",
              "      background-color: #E2EBFA;\n",
              "      box-shadow: 0px 1px 2px rgba(60, 64, 67, 0.3), 0px 1px 3px 1px rgba(60, 64, 67, 0.15);\n",
              "      fill: #174EA6;\n",
              "    }\n",
              "\n",
              "    .colab-df-buttons div {\n",
              "      margin-bottom: 4px;\n",
              "    }\n",
              "\n",
              "    [theme=dark] .colab-df-convert {\n",
              "      background-color: #3B4455;\n",
              "      fill: #D2E3FC;\n",
              "    }\n",
              "\n",
              "    [theme=dark] .colab-df-convert:hover {\n",
              "      background-color: #434B5C;\n",
              "      box-shadow: 0px 1px 3px 1px rgba(0, 0, 0, 0.15);\n",
              "      filter: drop-shadow(0px 1px 2px rgba(0, 0, 0, 0.3));\n",
              "      fill: #FFFFFF;\n",
              "    }\n",
              "  </style>\n",
              "\n",
              "    <script>\n",
              "      const buttonEl =\n",
              "        document.querySelector('#df-8d533e02-5f25-465f-b427-9f741de63f1c button.colab-df-convert');\n",
              "      buttonEl.style.display =\n",
              "        google.colab.kernel.accessAllowed ? 'block' : 'none';\n",
              "\n",
              "      async function convertToInteractive(key) {\n",
              "        const element = document.querySelector('#df-8d533e02-5f25-465f-b427-9f741de63f1c');\n",
              "        const dataTable =\n",
              "          await google.colab.kernel.invokeFunction('convertToInteractive',\n",
              "                                                    [key], {});\n",
              "        if (!dataTable) return;\n",
              "\n",
              "        const docLinkHtml = 'Like what you see? Visit the ' +\n",
              "          '<a target=\"_blank\" href=https://colab.research.google.com/notebooks/data_table.ipynb>data table notebook</a>'\n",
              "          + ' to learn more about interactive tables.';\n",
              "        element.innerHTML = '';\n",
              "        dataTable['output_type'] = 'display_data';\n",
              "        await google.colab.output.renderOutput(dataTable, element);\n",
              "        const docLink = document.createElement('div');\n",
              "        docLink.innerHTML = docLinkHtml;\n",
              "        element.appendChild(docLink);\n",
              "      }\n",
              "    </script>\n",
              "  </div>\n",
              "\n",
              "\n",
              "<div id=\"df-152cecc7-8db1-4af1-8d8f-3a3f638ec3e4\">\n",
              "  <button class=\"colab-df-quickchart\" onclick=\"quickchart('df-152cecc7-8db1-4af1-8d8f-3a3f638ec3e4')\"\n",
              "            title=\"Suggest charts\"\n",
              "            style=\"display:none;\">\n",
              "\n",
              "<svg xmlns=\"http://www.w3.org/2000/svg\" height=\"24px\"viewBox=\"0 0 24 24\"\n",
              "     width=\"24px\">\n",
              "    <g>\n",
              "        <path d=\"M19 3H5c-1.1 0-2 .9-2 2v14c0 1.1.9 2 2 2h14c1.1 0 2-.9 2-2V5c0-1.1-.9-2-2-2zM9 17H7v-7h2v7zm4 0h-2V7h2v10zm4 0h-2v-4h2v4z\"/>\n",
              "    </g>\n",
              "</svg>\n",
              "  </button>\n",
              "\n",
              "<style>\n",
              "  .colab-df-quickchart {\n",
              "      --bg-color: #E8F0FE;\n",
              "      --fill-color: #1967D2;\n",
              "      --hover-bg-color: #E2EBFA;\n",
              "      --hover-fill-color: #174EA6;\n",
              "      --disabled-fill-color: #AAA;\n",
              "      --disabled-bg-color: #DDD;\n",
              "  }\n",
              "\n",
              "  [theme=dark] .colab-df-quickchart {\n",
              "      --bg-color: #3B4455;\n",
              "      --fill-color: #D2E3FC;\n",
              "      --hover-bg-color: #434B5C;\n",
              "      --hover-fill-color: #FFFFFF;\n",
              "      --disabled-bg-color: #3B4455;\n",
              "      --disabled-fill-color: #666;\n",
              "  }\n",
              "\n",
              "  .colab-df-quickchart {\n",
              "    background-color: var(--bg-color);\n",
              "    border: none;\n",
              "    border-radius: 50%;\n",
              "    cursor: pointer;\n",
              "    display: none;\n",
              "    fill: var(--fill-color);\n",
              "    height: 32px;\n",
              "    padding: 0;\n",
              "    width: 32px;\n",
              "  }\n",
              "\n",
              "  .colab-df-quickchart:hover {\n",
              "    background-color: var(--hover-bg-color);\n",
              "    box-shadow: 0 1px 2px rgba(60, 64, 67, 0.3), 0 1px 3px 1px rgba(60, 64, 67, 0.15);\n",
              "    fill: var(--button-hover-fill-color);\n",
              "  }\n",
              "\n",
              "  .colab-df-quickchart-complete:disabled,\n",
              "  .colab-df-quickchart-complete:disabled:hover {\n",
              "    background-color: var(--disabled-bg-color);\n",
              "    fill: var(--disabled-fill-color);\n",
              "    box-shadow: none;\n",
              "  }\n",
              "\n",
              "  .colab-df-spinner {\n",
              "    border: 2px solid var(--fill-color);\n",
              "    border-color: transparent;\n",
              "    border-bottom-color: var(--fill-color);\n",
              "    animation:\n",
              "      spin 1s steps(1) infinite;\n",
              "  }\n",
              "\n",
              "  @keyframes spin {\n",
              "    0% {\n",
              "      border-color: transparent;\n",
              "      border-bottom-color: var(--fill-color);\n",
              "      border-left-color: var(--fill-color);\n",
              "    }\n",
              "    20% {\n",
              "      border-color: transparent;\n",
              "      border-left-color: var(--fill-color);\n",
              "      border-top-color: var(--fill-color);\n",
              "    }\n",
              "    30% {\n",
              "      border-color: transparent;\n",
              "      border-left-color: var(--fill-color);\n",
              "      border-top-color: var(--fill-color);\n",
              "      border-right-color: var(--fill-color);\n",
              "    }\n",
              "    40% {\n",
              "      border-color: transparent;\n",
              "      border-right-color: var(--fill-color);\n",
              "      border-top-color: var(--fill-color);\n",
              "    }\n",
              "    60% {\n",
              "      border-color: transparent;\n",
              "      border-right-color: var(--fill-color);\n",
              "    }\n",
              "    80% {\n",
              "      border-color: transparent;\n",
              "      border-right-color: var(--fill-color);\n",
              "      border-bottom-color: var(--fill-color);\n",
              "    }\n",
              "    90% {\n",
              "      border-color: transparent;\n",
              "      border-bottom-color: var(--fill-color);\n",
              "    }\n",
              "  }\n",
              "</style>\n",
              "\n",
              "  <script>\n",
              "    async function quickchart(key) {\n",
              "      const quickchartButtonEl =\n",
              "        document.querySelector('#' + key + ' button');\n",
              "      quickchartButtonEl.disabled = true;  // To prevent multiple clicks.\n",
              "      quickchartButtonEl.classList.add('colab-df-spinner');\n",
              "      try {\n",
              "        const charts = await google.colab.kernel.invokeFunction(\n",
              "            'suggestCharts', [key], {});\n",
              "      } catch (error) {\n",
              "        console.error('Error during call to suggestCharts:', error);\n",
              "      }\n",
              "      quickchartButtonEl.classList.remove('colab-df-spinner');\n",
              "      quickchartButtonEl.classList.add('colab-df-quickchart-complete');\n",
              "    }\n",
              "    (() => {\n",
              "      let quickchartButtonEl =\n",
              "        document.querySelector('#df-152cecc7-8db1-4af1-8d8f-3a3f638ec3e4 button');\n",
              "      quickchartButtonEl.style.display =\n",
              "        google.colab.kernel.accessAllowed ? 'block' : 'none';\n",
              "    })();\n",
              "  </script>\n",
              "</div>\n",
              "    </div>\n",
              "  </div>\n"
            ]
          },
          "metadata": {},
          "execution_count": 3
        }
      ]
    },
    {
      "cell_type": "code",
      "metadata": {
        "tags": [],
        "cell_id": "5198cd980d8346c78d8262bc36ebe015",
        "source_hash": "1de970d7",
        "execution_start": 1676293288522,
        "execution_millis": 563,
        "deepnote_to_be_reexecuted": false,
        "deepnote_cell_type": "code",
        "colab": {
          "base_uri": "https://localhost:8080/",
          "height": 447
        },
        "id": "IyNH05BAyQwI",
        "outputId": "bfd615a8-35a7-4c20-87af-ae06d4b78339"
      },
      "source": [
        "df['session_len'].hist()"
      ],
      "execution_count": null,
      "outputs": [
        {
          "output_type": "execute_result",
          "data": {
            "text/plain": [
              "<Axes: >"
            ]
          },
          "metadata": {},
          "execution_count": 4
        },
        {
          "output_type": "display_data",
          "data": {
            "text/plain": [
              "<Figure size 640x480 with 1 Axes>"
            ],
            "image/png": "[encoded data removed]"
          },
          "metadata": {}
        }
      ]
    },
    {
      "cell_type": "code",
      "metadata": {
        "tags": [],
        "cell_id": "6e4fcc4c2db244ceaa3194aa0fb3cbfa",
        "source_hash": "90b3280e",
        "execution_start": 1676293289129,
        "execution_millis": 3,
        "deepnote_to_be_reexecuted": false,
        "deepnote_cell_type": "code",
        "colab": {
          "base_uri": "https://localhost:8080/"
        },
        "id": "ixTiC_6gyQwI",
        "outputId": "5454043f-98db-474b-ece9-beb4451b0dae"
      },
      "source": [
        "df['session_len'].mean()"
      ],
      "execution_count": null,
      "outputs": [
        {
          "output_type": "execute_result",
          "data": {
            "text/plain": [
              "551.7592711731097"
            ]
          },
          "metadata": {},
          "execution_count": 5
        }
      ]
    },
    {
      "cell_type": "markdown",
      "metadata": {
        "tags": [],
        "cell_id": "4b88821cc5ed4a3e97f1ec6c5cd23dfc",
        "is_collapsed": false,
        "formattedRanges": [],
        "deepnote_cell_type": "text-cell-p",
        "id": "C8lVGNcVyQwI"
      },
      "source": [
        "В среднем пользовательская сессия длится 552 секунды или около 9 минут. Видим, что в основном сессии короткие, но бывают и достаточно длинные."
      ]
    },
    {
      "cell_type": "markdown",
      "source": [
        "# Гипотезы"
      ],
      "metadata": {
        "id": "cQND3okLy49i"
      }
    },
    {
      "cell_type": "markdown",
      "metadata": {
        "tags": [],
        "cell_id": "cf78518bcd3d4b52bac940012c26d185",
        "is_collapsed": false,
        "formattedRanges": [],
        "deepnote_cell_type": "text-cell-p",
        "id": "Z4bG77I1yQwJ"
      },
      "source": [
        "Мы собираемся протестировать изменение в рекомендательном алгоритме, мы придумали кое-какое нововведение, которое по нашему мнению должно сделать ленту более интересной, и, следовательно, время сессии увеличится."
      ]
    },
    {
      "cell_type": "markdown",
      "metadata": {
        "tags": [],
        "cell_id": "589debdb-97ba-4294-935a-70ce129ddf15",
        "is_collapsed": false,
        "formattedRanges": [],
        "deepnote_cell_type": "text-cell-p",
        "id": "2Ht2x1ewyQwJ"
      },
      "source": [
        "Мы уже знаем, что подобного рода гипотезы проверяются с помощью А/Б теста с контрольной и тестовой группой. Мы не можем просто включить новые рекомендация для всех пользователей, потому что мы можем не понять за счет чего произошло изменение в длине сессии: за счет новых рекомендаций или по каким-то другим неизвестным причинам."
      ]
    },
    {
      "cell_type": "markdown",
      "metadata": {
        "tags": [],
        "cell_id": "ee1b749d-caa4-47a3-94fc-b6e72957ac64",
        "is_collapsed": false,
        "formattedRanges": [],
        "deepnote_cell_type": "text-cell-p",
        "id": "yw-0gSrsyQwJ"
      },
      "source": [
        "Значит, у нас будет две группы:"
      ]
    },
    {
      "cell_type": "markdown",
      "metadata": {
        "tags": [],
        "cell_id": "ed0bba16-e0f7-4c49-b109-7d54357efceb",
        "is_collapsed": false,
        "formattedRanges": [],
        "deepnote_cell_type": "text-cell-bullet",
        "id": "DD2JNLQ2yQwJ"
      },
      "source": [
        "- Контрольная (А): в этой группе пользователи будут видеть старые рекомендации"
      ]
    },
    {
      "cell_type": "markdown",
      "metadata": {
        "tags": [],
        "cell_id": "ffd80567-5f78-4943-8afd-e10f4affa28a",
        "is_collapsed": false,
        "formattedRanges": [],
        "deepnote_cell_type": "text-cell-bullet",
        "id": "HMlkHo-DyQwJ"
      },
      "source": [
        "- Тестовая (Б): в этой группе пользователи будет видеть новые рекомендации."
      ]
    },
    {
      "cell_type": "markdown",
      "metadata": {
        "tags": [],
        "cell_id": "850b3839-1fab-429d-b2f6-73bc83f5133f",
        "is_collapsed": false,
        "formattedRanges": [],
        "deepnote_cell_type": "text-cell-p",
        "id": "XLVOUlopyQwJ"
      },
      "source": [
        "Сразу сформулируем нулевую и альтернативную гипотезы. В случае А/Б теста они стандартные:"
      ]
    },
    {
      "cell_type": "markdown",
      "metadata": {
        "tags": [],
        "cell_id": "5694878b-28f2-4049-93a2-fa37df939de9",
        "is_collapsed": false,
        "formattedRanges": [],
        "deepnote_cell_type": "text-cell-bullet",
        "id": "t9j50uFPyQwJ"
      },
      "source": [
        "- H0: средняя длина пользовательской сессии в группе А и в группе Б равны"
      ]
    },
    {
      "cell_type": "markdown",
      "metadata": {
        "tags": [],
        "cell_id": "cfebed26-0c58-4426-acb9-efe490fc7e5e",
        "is_collapsed": false,
        "formattedRanges": [],
        "deepnote_cell_type": "text-cell-bullet",
        "id": "46mjT-XfyQwJ"
      },
      "source": [
        "- H1: средняя длина пользовательской сессии в группе А и в группе Б не равны"
      ]
    },
    {
      "cell_type": "markdown",
      "metadata": {
        "tags": [],
        "cell_id": "2843544d-9ddf-4b55-a078-d8032abee610",
        "is_collapsed": false,
        "formattedRanges": [],
        "deepnote_cell_type": "text-cell-p",
        "id": "QyoedSOByQwJ"
      },
      "source": [
        "Альтернативная гипотеза в случае А/Б теста в большинстве случаев двухсторонняя. В этом случае нас так же интересуют отклонение средней длительности как вниз, так и вверх, и поэтому альтернатива выбрана двухсторонняя."
      ]
    },
    {
      "cell_type": "markdown",
      "source": [
        "# Требования к тесту"
      ],
      "metadata": {
        "id": "KsTK0SplzDsb"
      }
    },
    {
      "cell_type": "markdown",
      "metadata": {
        "tags": [],
        "cell_id": "28d8ed13-39b5-4239-86ed-6489a2bbaed0",
        "is_collapsed": false,
        "formattedRanges": [],
        "deepnote_cell_type": "text-cell-p",
        "id": "CjWv3CDWyQwJ"
      },
      "source": [
        "Дальше нужно решить какие минимальный эффект, мощность и альфу (значимость) мы хотим получить для этого теста."
      ]
    },
    {
      "cell_type": "markdown",
      "metadata": {
        "tags": [],
        "is_collapsed": false,
        "formattedRanges": [],
        "cell_id": "62e9cf86-b3b6-40b9-af57-55421c94545c",
        "deepnote_cell_type": "text-cell-p",
        "id": "sb7YQ-K5yQwK"
      },
      "source": [
        "Предположим, что нам интересно отслеживать изменение длины пользовательской сессии минимум на 1 минуту или на 60 секунд. Данных у нас в X много, поэтому мы вполне можем позволить себе мощность 90% и альфу 1%."
      ]
    },
    {
      "cell_type": "markdown",
      "metadata": {
        "tags": [],
        "cell_id": "3dc88bcb-d553-4c52-94df-b51fd0546e89",
        "is_collapsed": false,
        "formattedRanges": [],
        "deepnote_cell_type": "text-cell-p",
        "id": "Jyle_fvZyQwK"
      },
      "source": [
        "И так, мы хотим чтобы тест:"
      ]
    },
    {
      "cell_type": "markdown",
      "metadata": {
        "tags": [],
        "cell_id": "ff8e573e-734a-4503-b40d-f06dce67638b",
        "is_collapsed": false,
        "formattedRanges": [],
        "deepnote_cell_type": "text-cell-bullet",
        "id": "FP1LZQIfyQwK"
      },
      "source": [
        "- мог обнаружить изменение пользовательской сессии минимум на 60 секунд"
      ]
    },
    {
      "cell_type": "markdown",
      "metadata": {
        "tags": [],
        "cell_id": "42177220-6d00-49da-8346-ec3c43889fe5",
        "is_collapsed": false,
        "formattedRanges": [],
        "deepnote_cell_type": "text-cell-bullet",
        "id": "Ojq8wMSfyQwK"
      },
      "source": [
        "- имел мощность в 90%, т.е. обнаруживал наличие отклонения в 90% случаев, когда оно действительно есть"
      ]
    },
    {
      "cell_type": "markdown",
      "metadata": {
        "tags": [],
        "cell_id": "d8580b06-ff7e-4e39-8c07-972381a40ae8",
        "is_collapsed": false,
        "formattedRanges": [],
        "deepnote_cell_type": "text-cell-bullet",
        "id": "P6PopWeRyQwK"
      },
      "source": [
        "- имел альфу 1%, т.е. обнаруживал наличие отклонения только  в 1% случаев, когда отклонения на самом деле нет. Ложное срабатывание только в 1% случаев."
      ]
    },
    {
      "cell_type": "markdown",
      "source": [
        "# Проверка можно ли использовать t-test"
      ],
      "metadata": {
        "id": "xjtYaz-IzLPa"
      }
    },
    {
      "cell_type": "markdown",
      "metadata": {
        "tags": [],
        "cell_id": "08b1a6b2-67ce-4489-abee-99471bde1a1d",
        "is_collapsed": false,
        "formattedRanges": [],
        "deepnote_cell_type": "text-cell-p",
        "id": "7fDfsYynyQwK"
      },
      "source": [
        "Какой метод расчета p-value будем использовать? Длина пользовательской сессии – это непрерывная переменная, поэтому здесь мы будем использовать t test."
      ]
    },
    {
      "cell_type": "markdown",
      "source": [
        "## Нормальность выборочного среднего"
      ],
      "metadata": {
        "id": "jFVu1it8zREd"
      }
    },
    {
      "cell_type": "markdown",
      "metadata": {
        "tags": [],
        "cell_id": "5a26caab-8f06-45dc-b9bd-1292d312b719",
        "is_collapsed": false,
        "formattedRanges": [],
        "deepnote_cell_type": "text-cell-p",
        "id": "bpJacMcfyQwK"
      },
      "source": [
        "Но у ти-теста есть требование: выборочное среднее должно быть распределено нормально. Это нужно проверить."
      ]
    },
    {
      "cell_type": "markdown",
      "metadata": {
        "tags": [],
        "cell_id": "7eb83254-8226-4286-b9b6-76faaad5c328",
        "is_collapsed": false,
        "formattedRanges": [],
        "deepnote_cell_type": "text-cell-p",
        "id": "Q4dRG9YGyQwK"
      },
      "source": [
        "У нас есть выборка в 20000 сессий. С помощью бутстрепа посмотрим, как будет распределено выборочное среднее при таком размере выборке. Будем брать подвыборки с возвращением, считать среднее и сохранять в список."
      ]
    },
    {
      "cell_type": "code",
      "metadata": {
        "tags": [],
        "cell_id": "557021ff398b4e089d7b7a13eb16e46c",
        "source_hash": "42331e23",
        "execution_start": 1676293363314,
        "execution_millis": 915,
        "deepnote_to_be_reexecuted": false,
        "deepnote_cell_type": "code",
        "id": "iou0TtKWyQwK"
      },
      "source": [
        "n = 1000\n",
        "result = []\n",
        "for i in range(n):\n",
        "    mean = df['session_len'].sample(frac=1,replace=True,random_state=i).mean()\n",
        "    result.append(mean)"
      ],
      "execution_count": null,
      "outputs": []
    },
    {
      "cell_type": "markdown",
      "metadata": {
        "tags": [],
        "cell_id": "48e8cb9b4c134fd9b43c4c031aa308f9",
        "is_collapsed": false,
        "formattedRanges": [],
        "deepnote_cell_type": "text-cell-p",
        "id": "6Gh8v6j5yQwK"
      },
      "source": [
        "Сделаем из списка датафрейм чтобы было удобно работать."
      ]
    },
    {
      "cell_type": "code",
      "metadata": {
        "tags": [],
        "cell_id": "9826a89be5234f6193c2d0e9adab5c8b",
        "source_hash": "2616a278",
        "execution_start": 1676293372940,
        "execution_millis": 5,
        "deepnote_to_be_reexecuted": false,
        "deepnote_cell_type": "code",
        "id": "t8dG3w4CyQwK"
      },
      "source": [
        "t = pd.DataFrame({'sample_mean':result})"
      ],
      "execution_count": null,
      "outputs": []
    },
    {
      "cell_type": "markdown",
      "metadata": {
        "tags": [],
        "cell_id": "b3a5b4ff920f4cf09348e8b550005dc5",
        "is_collapsed": false,
        "formattedRanges": [],
        "deepnote_cell_type": "text-cell-p",
        "id": "4Gk2HSoyyQwL"
      },
      "source": [
        "Посмотрим на гистограмму."
      ]
    },
    {
      "cell_type": "code",
      "metadata": {
        "tags": [],
        "cell_id": "984b1ba95f29488aa837b8ae834f63b0",
        "source_hash": "45a12c03",
        "execution_start": 1676293381858,
        "execution_millis": 243,
        "deepnote_to_be_reexecuted": false,
        "deepnote_cell_type": "code",
        "colab": {
          "base_uri": "https://localhost:8080/",
          "height": 447
        },
        "id": "oXNuOxvIyQwL",
        "outputId": "4cc3264a-ae81-4567-e308-7622e58f5668"
      },
      "source": [
        "t['sample_mean'].hist()"
      ],
      "execution_count": null,
      "outputs": [
        {
          "output_type": "execute_result",
          "data": {
            "text/plain": [
              "<Axes: >"
            ]
          },
          "metadata": {},
          "execution_count": 8
        },
        {
          "output_type": "display_data",
          "data": {
            "text/plain": [
              "<Figure size 640x480 with 1 Axes>"
            ],
            "image/png": "[encoded data removed]"
          },
          "metadata": {}
        }
      ]
    },
    {
      "cell_type": "markdown",
      "metadata": {
        "tags": [],
        "cell_id": "ccad4f4841e24398abf28267e6122b91",
        "is_collapsed": false,
        "formattedRanges": [],
        "deepnote_cell_type": "text-cell-p",
        "id": "0T28vfjQyQwL"
      },
      "source": [
        "Кажется, что распределение вполне нормальное. Подтвердим ку-ку графиком."
      ]
    },
    {
      "cell_type": "code",
      "metadata": {
        "tags": [],
        "cell_id": "69ce92c3d4b646f8a70107b1d59ef32a",
        "source_hash": "e7b376de",
        "execution_start": 1676293474787,
        "execution_millis": 931,
        "deepnote_to_be_reexecuted": false,
        "deepnote_cell_type": "code",
        "colab": {
          "base_uri": "https://localhost:8080/",
          "height": 472
        },
        "id": "Wy80-huHyQwL",
        "outputId": "8ecfe1a6-1610-47b5-9442-02d64542e94e"
      },
      "source": [
        "import pylab\n",
        "import scipy.stats as stats\n",
        "\n",
        "stats.probplot(t['sample_mean'], dist=\"norm\", plot=pylab)\n",
        "pylab.show()"
      ],
      "execution_count": null,
      "outputs": [
        {
          "output_type": "display_data",
          "data": {
            "text/plain": [
              "<Figure size 640x480 with 1 Axes>"
            ],
            "image/png": "[encoded data removed]"
          },
          "metadata": {}
        }
      ]
    },
    {
      "cell_type": "markdown",
      "metadata": {
        "tags": [],
        "cell_id": "401e0025652f4d31bbddacf2412328c8",
        "is_collapsed": false,
        "formattedRanges": [],
        "deepnote_cell_type": "text-cell-p",
        "id": "tYG7XOEdyQwL"
      },
      "source": [
        "Да, распределение вполне можно считать нормальным. T-test использовать можно!"
      ]
    },
    {
      "cell_type": "markdown",
      "source": [
        "## Проверка соответствия реального FPR желаемому"
      ],
      "metadata": {
        "id": "27nWPKG9zZJY"
      }
    },
    {
      "cell_type": "markdown",
      "metadata": {
        "tags": [],
        "cell_id": "b61f8492-f251-4009-8672-859c2f81958f",
        "is_collapsed": false,
        "formattedRanges": [],
        "deepnote_cell_type": "text-cell-p",
        "id": "escy5kVcyQwL"
      },
      "source": [
        "Чтобы быть совсем уверенными в том, что в этом случае можно использовать t-test, посмотрим, соответствует ли альфа реальной вероятности ошибки первого рода. Для этого нам потребуется сам t test (для двух выборок). Его можно взять в scipy.stats"
      ]
    },
    {
      "cell_type": "code",
      "metadata": {
        "tags": [],
        "cell_id": "fb9606cbace04e0db152085c0e7040a1",
        "source_hash": "dc1f458c",
        "execution_start": 1676293690318,
        "execution_millis": 2,
        "deepnote_to_be_reexecuted": false,
        "deepnote_cell_type": "code",
        "id": "Zx9eMqRHyQwL"
      },
      "source": [
        "from scipy.stats import ttest_ind"
      ],
      "execution_count": null,
      "outputs": []
    },
    {
      "cell_type": "markdown",
      "metadata": {
        "tags": [],
        "cell_id": "3cfb2c7c7a7747ec86a675df70d4ee11",
        "is_collapsed": false,
        "formattedRanges": [],
        "deepnote_cell_type": "text-cell-p",
        "id": "vWIjJNEvyQwM"
      },
      "source": [
        "Он принимает на вход две выборки, я сгенерирую их как подвыборки из нашей основной выборки."
      ]
    },
    {
      "cell_type": "code",
      "metadata": {
        "tags": [],
        "cell_id": "ec583ff2a26c47ba93dc26d1bcecc039",
        "source_hash": "1ed3619b",
        "execution_start": 1676293981908,
        "execution_millis": 2,
        "deepnote_to_be_reexecuted": false,
        "deepnote_cell_type": "code",
        "id": "pkIUVRu3yQwM"
      },
      "source": [
        "a = df['session_len'].sample(frac=1,replace=True,random_state=0)"
      ],
      "execution_count": null,
      "outputs": []
    },
    {
      "cell_type": "code",
      "metadata": {
        "tags": [],
        "cell_id": "ab4471df54a94ed2ba06984ec2331558",
        "source_hash": "47f08183",
        "execution_start": 1676293982320,
        "execution_millis": 2,
        "deepnote_to_be_reexecuted": false,
        "deepnote_cell_type": "code",
        "id": "OjGcCV8_yQwS"
      },
      "source": [
        "b = df['session_len'].sample(frac=1,replace=True,random_state=1)"
      ],
      "execution_count": null,
      "outputs": []
    },
    {
      "cell_type": "markdown",
      "metadata": {
        "tags": [],
        "cell_id": "0caa9f8d2c0e44958e16a3a7fd37c95d",
        "is_collapsed": false,
        "formattedRanges": [],
        "deepnote_cell_type": "text-cell-p",
        "id": "PAFExcPjyQwS"
      },
      "source": [
        "Сам тест работает следующим образом."
      ]
    },
    {
      "cell_type": "code",
      "metadata": {
        "tags": [],
        "cell_id": "dd55de7a06a04812a5a86e3933326e0c",
        "source_hash": "513e142e",
        "execution_start": 1676293984093,
        "execution_millis": 5,
        "deepnote_to_be_reexecuted": false,
        "deepnote_cell_type": "code",
        "colab": {
          "base_uri": "https://localhost:8080/"
        },
        "id": "XzyKgyERyQwS",
        "outputId": "16a7e18e-193d-488f-dede-2c1f118b62c1"
      },
      "source": [
        "ttest_ind(a,b,equal_var=False,alternative='two-sided')"
      ],
      "execution_count": null,
      "outputs": [
        {
          "output_type": "execute_result",
          "data": {
            "text/plain": [
              "TtestResult(statistic=0.9229679359331525, pvalue=0.3560294853313042, df=39977.35885998961)"
            ]
          },
          "metadata": {},
          "execution_count": 13
        }
      ]
    },
    {
      "cell_type": "markdown",
      "metadata": {
        "tags": [],
        "cell_id": "142435229572478cb1537412d41f9c46",
        "is_collapsed": false,
        "formattedRanges": [],
        "deepnote_cell_type": "text-cell-p",
        "id": "Naktv-biyQwS"
      },
      "source": [
        "Он принимает на вход:"
      ]
    },
    {
      "cell_type": "markdown",
      "metadata": {
        "tags": [],
        "cell_id": "e57c2c08-6441-4eb2-9ed4-3483a2095814",
        "is_collapsed": false,
        "formattedRanges": [],
        "deepnote_cell_type": "text-cell-bullet",
        "id": "tmHPriayyQwS"
      },
      "source": [
        "- две выборки, для которых мы хотим рассчитать p-value"
      ]
    },
    {
      "cell_type": "markdown",
      "metadata": {
        "tags": [],
        "cell_id": "f6b20d98-cedd-4ff6-a68d-e53d629160ed",
        "is_collapsed": false,
        "formattedRanges": [],
        "deepnote_cell_type": "text-cell-bullet",
        "id": "qYjzNo9uyQwS"
      },
      "source": [
        "- параметр equal_var равный False. Это означает, что у нас нет оснований считать, что выборки имеют одинаковую дисперсию. При проведении ти-теста всегда следует ставить это параметр на False, т.к. мы на самом деле никогда не можем быть уверены, что выборки имеют одинаковую дисперсию. Кстати, ти-тест с параметром equal_var=False называют ти-тестом Уэлча (Welch)."
      ]
    },
    {
      "cell_type": "markdown",
      "metadata": {
        "tags": [],
        "cell_id": "cb6b78df-0f6a-499e-a269-0a5dc1e9221f",
        "is_collapsed": false,
        "formattedRanges": [],
        "deepnote_cell_type": "text-cell-bullet",
        "id": "tg7gOwZWyQwS"
      },
      "source": [
        "- тип альтернативы"
      ]
    },
    {
      "cell_type": "markdown",
      "metadata": {
        "tags": [],
        "cell_id": "45ec0530-4011-4bed-862b-1ab0547b3ecc",
        "is_collapsed": false,
        "formattedRanges": [],
        "deepnote_cell_type": "text-cell-p",
        "id": "ODtMgW-oyQwS"
      },
      "source": [
        "Теперь проверим, соответствует ли альфа реальной вероятности ошибки первого рода (fpr). Для этого будем генерировать подвыборки из исходной выборки и считать для них p-value."
      ]
    },
    {
      "cell_type": "code",
      "metadata": {
        "tags": [],
        "cell_id": "8c121f1d4f9047bdb92f497e15dd0405",
        "source_hash": "15bce2eb",
        "execution_start": 1676294843206,
        "execution_millis": 1835,
        "deepnote_to_be_reexecuted": false,
        "deepnote_cell_type": "code",
        "id": "TdKH6iATyQwT"
      },
      "source": [
        "n = 1000\n",
        "result = []\n",
        "for i in range(n):\n",
        "    a = df['session_len'].sample(frac=1,replace=True,random_state=i)\n",
        "    b = df['session_len'].sample(frac=1,replace=True,random_state=n-i)\n",
        "    pvalue = ttest_ind(a,b,equal_var=False,alternative='two-sided')[1]\n",
        "    result.append((a.mean(),b.mean(),abs(a.mean() - b.mean()),pvalue))"
      ],
      "execution_count": null,
      "outputs": []
    },
    {
      "cell_type": "code",
      "metadata": {
        "tags": [],
        "cell_id": "b699ff48dc5c4632814a5a97858678b6",
        "source_hash": "eedb77e0",
        "execution_start": 1676294856723,
        "execution_millis": 3,
        "deepnote_to_be_reexecuted": false,
        "deepnote_cell_type": "code",
        "id": "I_zFA5QayQwT"
      },
      "source": [
        "t = pd.DataFrame(result,columns=['a_mean','b_mean','diff_abs','p-value'])"
      ],
      "execution_count": null,
      "outputs": []
    },
    {
      "cell_type": "code",
      "metadata": {
        "tags": [],
        "cell_id": "5b58c92191e746418fd2a90efd601de8",
        "source_hash": "51b57d41",
        "execution_start": 1676294858148,
        "execution_millis": 18,
        "deepnote_to_be_reexecuted": false,
        "deepnote_cell_type": "code",
        "colab": {
          "base_uri": "https://localhost:8080/",
          "height": 423
        },
        "id": "R3SwfLdoyQwT",
        "outputId": "625fd910-65d9-48d6-8e64-eec5937a5aa9"
      },
      "source": [
        "t"
      ],
      "execution_count": null,
      "outputs": [
        {
          "output_type": "execute_result",
          "data": {
            "text/plain": [
              "         a_mean      b_mean  diff_abs   p-value\n",
              "0    553.825178  553.846938  0.021760  0.996650\n",
              "1    549.060402  543.704810  5.355592  0.292565\n",
              "2    551.383030  550.608622  0.774408  0.881639\n",
              "3    552.195045  552.819455  0.624410  0.904394\n",
              "4    553.769217  549.872458  3.896758  0.450375\n",
              "..          ...         ...       ...       ...\n",
              "995  554.599701  552.788058  1.811644  0.731943\n",
              "996  549.872458  553.769217  3.896758  0.450375\n",
              "997  552.819455  552.195045  0.624410  0.904394\n",
              "998  550.608622  551.383030  0.774408  0.881639\n",
              "999  543.704810  549.060402  5.355592  0.292565\n",
              "\n",
              "[1000 rows x 4 columns]"
            ],
            "text/html": [
              "\n",
              "  <div id=\"df-05b86992-8b2d-4792-a826-6f287e7465cb\" class=\"colab-df-container\">\n",
              "    <div>\n",
              "<style scoped>\n",
              "    .dataframe tbody tr th:only-of-type {\n",
              "        vertical-align: middle;\n",
              "    }\n",
              "\n",
              "    .dataframe tbody tr th {\n",
              "        vertical-align: top;\n",
              "    }\n",
              "\n",
              "    .dataframe thead th {\n",
              "        text-align: right;\n",
              "    }\n",
              "</style>\n",
              "<table border=\"1\" class=\"dataframe\">\n",
              "  <thead>\n",
              "    <tr style=\"text-align: right;\">\n",
              "      <th></th>\n",
              "      <th>a_mean</th>\n",
              "      <th>b_mean</th>\n",
              "      <th>diff_abs</th>\n",
              "      <th>p-value</th>\n",
              "    </tr>\n",
              "  </thead>\n",
              "  <tbody>\n",
              "    <tr>\n",
              "      <th>0</th>\n",
              "      <td>553.825178</td>\n",
              "      <td>553.846938</td>\n",
              "      <td>0.021760</td>\n",
              "      <td>0.996650</td>\n",
              "    </tr>\n",
              "    <tr>\n",
              "      <th>1</th>\n",
              "      <td>549.060402</td>\n",
              "      <td>543.704810</td>\n",
              "      <td>5.355592</td>\n",
              "      <td>0.292565</td>\n",
              "    </tr>\n",
              "    <tr>\n",
              "      <th>2</th>\n",
              "      <td>551.383030</td>\n",
              "      <td>550.608622</td>\n",
              "      <td>0.774408</td>\n",
              "      <td>0.881639</td>\n",
              "    </tr>\n",
              "    <tr>\n",
              "      <th>3</th>\n",
              "      <td>552.195045</td>\n",
              "      <td>552.819455</td>\n",
              "      <td>0.624410</td>\n",
              "      <td>0.904394</td>\n",
              "    </tr>\n",
              "    <tr>\n",
              "      <th>4</th>\n",
              "      <td>553.769217</td>\n",
              "      <td>549.872458</td>\n",
              "      <td>3.896758</td>\n",
              "      <td>0.450375</td>\n",
              "    </tr>\n",
              "    <tr>\n",
              "      <th>...</th>\n",
              "      <td>...</td>\n",
              "      <td>...</td>\n",
              "      <td>...</td>\n",
              "      <td>...</td>\n",
              "    </tr>\n",
              "    <tr>\n",
              "      <th>995</th>\n",
              "      <td>554.599701</td>\n",
              "      <td>552.788058</td>\n",
              "      <td>1.811644</td>\n",
              "      <td>0.731943</td>\n",
              "    </tr>\n",
              "    <tr>\n",
              "      <th>996</th>\n",
              "      <td>549.872458</td>\n",
              "      <td>553.769217</td>\n",
              "      <td>3.896758</td>\n",
              "      <td>0.450375</td>\n",
              "    </tr>\n",
              "    <tr>\n",
              "      <th>997</th>\n",
              "      <td>552.819455</td>\n",
              "      <td>552.195045</td>\n",
              "      <td>0.624410</td>\n",
              "      <td>0.904394</td>\n",
              "    </tr>\n",
              "    <tr>\n",
              "      <th>998</th>\n",
              "      <td>550.608622</td>\n",
              "      <td>551.383030</td>\n",
              "      <td>0.774408</td>\n",
              "      <td>0.881639</td>\n",
              "    </tr>\n",
              "    <tr>\n",
              "      <th>999</th>\n",
              "      <td>543.704810</td>\n",
              "      <td>549.060402</td>\n",
              "      <td>5.355592</td>\n",
              "      <td>0.292565</td>\n",
              "    </tr>\n",
              "  </tbody>\n",
              "</table>\n",
              "<p>1000 rows × 4 columns</p>\n",
              "</div>\n",
              "    <div class=\"colab-df-buttons\">\n",
              "\n",
              "  <div class=\"colab-df-container\">\n",
              "    <button class=\"colab-df-convert\" onclick=\"convertToInteractive('df-05b86992-8b2d-4792-a826-6f287e7465cb')\"\n",
              "            title=\"Convert this dataframe to an interactive table.\"\n",
              "            style=\"display:none;\">\n",
              "\n",
              "  <svg xmlns=\"http://www.w3.org/2000/svg\" height=\"24px\" viewBox=\"0 -960 960 960\">\n",
              "    <path d=\"M120-120v-720h720v720H120Zm60-500h600v-160H180v160Zm220 220h160v-160H400v160Zm0 220h160v-160H400v160ZM180-400h160v-160H180v160Zm440 0h160v-160H620v160ZM180-180h160v-160H180v160Zm440 0h160v-160H620v160Z\"/>\n",
              "  </svg>\n",
              "    </button>\n",
              "\n",
              "  <style>\n",
              "    .colab-df-container {\n",
              "      display:flex;\n",
              "      gap: 12px;\n",
              "    }\n",
              "\n",
              "    .colab-df-convert {\n",
              "      background-color: #E8F0FE;\n",
              "      border: none;\n",
              "      border-radius: 50%;\n",
              "      cursor: pointer;\n",
              "      display: none;\n",
              "      fill: #1967D2;\n",
              "      height: 32px;\n",
              "      padding: 0 0 0 0;\n",
              "      width: 32px;\n",
              "    }\n",
              "\n",
              "    .colab-df-convert:hover {\n",
              "      background-color: #E2EBFA;\n",
              "      box-shadow: 0px 1px 2px rgba(60, 64, 67, 0.3), 0px 1px 3px 1px rgba(60, 64, 67, 0.15);\n",
              "      fill: #174EA6;\n",
              "    }\n",
              "\n",
              "    .colab-df-buttons div {\n",
              "      margin-bottom: 4px;\n",
              "    }\n",
              "\n",
              "    [theme=dark] .colab-df-convert {\n",
              "      background-color: #3B4455;\n",
              "      fill: #D2E3FC;\n",
              "    }\n",
              "\n",
              "    [theme=dark] .colab-df-convert:hover {\n",
              "      background-color: #434B5C;\n",
              "      box-shadow: 0px 1px 3px 1px rgba(0, 0, 0, 0.15);\n",
              "      filter: drop-shadow(0px 1px 2px rgba(0, 0, 0, 0.3));\n",
              "      fill: #FFFFFF;\n",
              "    }\n",
              "  </style>\n",
              "\n",
              "    <script>\n",
              "      const buttonEl =\n",
              "        document.querySelector('#df-05b86992-8b2d-4792-a826-6f287e7465cb button.colab-df-convert');\n",
              "      buttonEl.style.display =\n",
              "        google.colab.kernel.accessAllowed ? 'block' : 'none';\n",
              "\n",
              "      async function convertToInteractive(key) {\n",
              "        const element = document.querySelector('#df-05b86992-8b2d-4792-a826-6f287e7465cb');\n",
              "        const dataTable =\n",
              "          await google.colab.kernel.invokeFunction('convertToInteractive',\n",
              "                                                    [key], {});\n",
              "        if (!dataTable) return;\n",
              "\n",
              "        const docLinkHtml = 'Like what you see? Visit the ' +\n",
              "          '<a target=\"_blank\" href=https://colab.research.google.com/notebooks/data_table.ipynb>data table notebook</a>'\n",
              "          + ' to learn more about interactive tables.';\n",
              "        element.innerHTML = '';\n",
              "        dataTable['output_type'] = 'display_data';\n",
              "        await google.colab.output.renderOutput(dataTable, element);\n",
              "        const docLink = document.createElement('div');\n",
              "        docLink.innerHTML = docLinkHtml;\n",
              "        element.appendChild(docLink);\n",
              "      }\n",
              "    </script>\n",
              "  </div>\n",
              "\n",
              "\n",
              "<div id=\"df-49007d2f-dfb8-4796-9630-470d855a646e\">\n",
              "  <button class=\"colab-df-quickchart\" onclick=\"quickchart('df-49007d2f-dfb8-4796-9630-470d855a646e')\"\n",
              "            title=\"Suggest charts\"\n",
              "            style=\"display:none;\">\n",
              "\n",
              "<svg xmlns=\"http://www.w3.org/2000/svg\" height=\"24px\"viewBox=\"0 0 24 24\"\n",
              "     width=\"24px\">\n",
              "    <g>\n",
              "        <path d=\"M19 3H5c-1.1 0-2 .9-2 2v14c0 1.1.9 2 2 2h14c1.1 0 2-.9 2-2V5c0-1.1-.9-2-2-2zM9 17H7v-7h2v7zm4 0h-2V7h2v10zm4 0h-2v-4h2v4z\"/>\n",
              "    </g>\n",
              "</svg>\n",
              "  </button>\n",
              "\n",
              "<style>\n",
              "  .colab-df-quickchart {\n",
              "      --bg-color: #E8F0FE;\n",
              "      --fill-color: #1967D2;\n",
              "      --hover-bg-color: #E2EBFA;\n",
              "      --hover-fill-color: #174EA6;\n",
              "      --disabled-fill-color: #AAA;\n",
              "      --disabled-bg-color: #DDD;\n",
              "  }\n",
              "\n",
              "  [theme=dark] .colab-df-quickchart {\n",
              "      --bg-color: #3B4455;\n",
              "      --fill-color: #D2E3FC;\n",
              "      --hover-bg-color: #434B5C;\n",
              "      --hover-fill-color: #FFFFFF;\n",
              "      --disabled-bg-color: #3B4455;\n",
              "      --disabled-fill-color: #666;\n",
              "  }\n",
              "\n",
              "  .colab-df-quickchart {\n",
              "    background-color: var(--bg-color);\n",
              "    border: none;\n",
              "    border-radius: 50%;\n",
              "    cursor: pointer;\n",
              "    display: none;\n",
              "    fill: var(--fill-color);\n",
              "    height: 32px;\n",
              "    padding: 0;\n",
              "    width: 32px;\n",
              "  }\n",
              "\n",
              "  .colab-df-quickchart:hover {\n",
              "    background-color: var(--hover-bg-color);\n",
              "    box-shadow: 0 1px 2px rgba(60, 64, 67, 0.3), 0 1px 3px 1px rgba(60, 64, 67, 0.15);\n",
              "    fill: var(--button-hover-fill-color);\n",
              "  }\n",
              "\n",
              "  .colab-df-quickchart-complete:disabled,\n",
              "  .colab-df-quickchart-complete:disabled:hover {\n",
              "    background-color: var(--disabled-bg-color);\n",
              "    fill: var(--disabled-fill-color);\n",
              "    box-shadow: none;\n",
              "  }\n",
              "\n",
              "  .colab-df-spinner {\n",
              "    border: 2px solid var(--fill-color);\n",
              "    border-color: transparent;\n",
              "    border-bottom-color: var(--fill-color);\n",
              "    animation:\n",
              "      spin 1s steps(1) infinite;\n",
              "  }\n",
              "\n",
              "  @keyframes spin {\n",
              "    0% {\n",
              "      border-color: transparent;\n",
              "      border-bottom-color: var(--fill-color);\n",
              "      border-left-color: var(--fill-color);\n",
              "    }\n",
              "    20% {\n",
              "      border-color: transparent;\n",
              "      border-left-color: var(--fill-color);\n",
              "      border-top-color: var(--fill-color);\n",
              "    }\n",
              "    30% {\n",
              "      border-color: transparent;\n",
              "      border-left-color: var(--fill-color);\n",
              "      border-top-color: var(--fill-color);\n",
              "      border-right-color: var(--fill-color);\n",
              "    }\n",
              "    40% {\n",
              "      border-color: transparent;\n",
              "      border-right-color: var(--fill-color);\n",
              "      border-top-color: var(--fill-color);\n",
              "    }\n",
              "    60% {\n",
              "      border-color: transparent;\n",
              "      border-right-color: var(--fill-color);\n",
              "    }\n",
              "    80% {\n",
              "      border-color: transparent;\n",
              "      border-right-color: var(--fill-color);\n",
              "      border-bottom-color: var(--fill-color);\n",
              "    }\n",
              "    90% {\n",
              "      border-color: transparent;\n",
              "      border-bottom-color: var(--fill-color);\n",
              "    }\n",
              "  }\n",
              "</style>\n",
              "\n",
              "  <script>\n",
              "    async function quickchart(key) {\n",
              "      const quickchartButtonEl =\n",
              "        document.querySelector('#' + key + ' button');\n",
              "      quickchartButtonEl.disabled = true;  // To prevent multiple clicks.\n",
              "      quickchartButtonEl.classList.add('colab-df-spinner');\n",
              "      try {\n",
              "        const charts = await google.colab.kernel.invokeFunction(\n",
              "            'suggestCharts', [key], {});\n",
              "      } catch (error) {\n",
              "        console.error('Error during call to suggestCharts:', error);\n",
              "      }\n",
              "      quickchartButtonEl.classList.remove('colab-df-spinner');\n",
              "      quickchartButtonEl.classList.add('colab-df-quickchart-complete');\n",
              "    }\n",
              "    (() => {\n",
              "      let quickchartButtonEl =\n",
              "        document.querySelector('#df-49007d2f-dfb8-4796-9630-470d855a646e button');\n",
              "      quickchartButtonEl.style.display =\n",
              "        google.colab.kernel.accessAllowed ? 'block' : 'none';\n",
              "    })();\n",
              "  </script>\n",
              "</div>\n",
              "    </div>\n",
              "  </div>\n"
            ]
          },
          "metadata": {},
          "execution_count": 16
        }
      ]
    },
    {
      "cell_type": "markdown",
      "metadata": {
        "tags": [],
        "cell_id": "c43e5fa35c3d4ebbac7e420b6edc77c6",
        "is_collapsed": false,
        "formattedRanges": [],
        "deepnote_cell_type": "text-cell-p",
        "id": "1hdyKL8gyQwT"
      },
      "source": [
        "Каждая строчка в этой таблице:"
      ]
    },
    {
      "cell_type": "markdown",
      "metadata": {
        "tags": [],
        "cell_id": "b93f7fff-8c2b-44d3-bced-c83177eb226f",
        "is_collapsed": false,
        "formattedRanges": [],
        "deepnote_cell_type": "text-cell-bullet",
        "id": "NBMhCR5lyQwT"
      },
      "source": [
        "- средняя длина сессии в контрольной группе"
      ]
    },
    {
      "cell_type": "markdown",
      "metadata": {
        "tags": [],
        "cell_id": "d13e503f-c8fd-41d4-ae0c-9760dbf2c94b",
        "is_collapsed": false,
        "formattedRanges": [],
        "deepnote_cell_type": "text-cell-bullet",
        "id": "hZrL19J7yQwT"
      },
      "source": [
        "- средняя длина сессии в тестовой группе"
      ]
    },
    {
      "cell_type": "markdown",
      "metadata": {
        "tags": [],
        "cell_id": "ae58fe17-57e3-4f98-bb42-01d82cf9ffd5",
        "is_collapsed": false,
        "formattedRanges": [],
        "deepnote_cell_type": "text-cell-bullet",
        "id": "V8dpsE75yQwT"
      },
      "source": [
        "- разница между двумя средними по модулю"
      ]
    },
    {
      "cell_type": "markdown",
      "metadata": {
        "tags": [],
        "cell_id": "67cfb820-bd62-4ff0-8aa9-2096a282f438",
        "is_collapsed": false,
        "formattedRanges": [],
        "deepnote_cell_type": "text-cell-bullet",
        "id": "yIdWVe4EyQwT"
      },
      "source": [
        "- p-value: вероятность получить минимум такое различие между средними при условии, что среднее в контрольной и тестовой группе равны"
      ]
    },
    {
      "cell_type": "markdown",
      "metadata": {
        "tags": [],
        "cell_id": "cf4cec6d888546c89623f91ee4d9aaef",
        "is_collapsed": false,
        "formattedRanges": [],
        "deepnote_cell_type": "text-cell-p",
        "id": "M2cnMmLYyQwT"
      },
      "source": [
        "Отвергнем нулевую гипотезу с альфой равной 1%, и посмотрим какую долю ошибок первого рода мы тут допустим: ведь мы знаем, что нулевая гипотеза здесь заведома верна для всех строк."
      ]
    },
    {
      "cell_type": "code",
      "metadata": {
        "tags": [],
        "cell_id": "03bf140e1ff444639c72990bf4a59840",
        "source_hash": "52abc27",
        "execution_start": 1676295087411,
        "execution_millis": 37,
        "deepnote_to_be_reexecuted": false,
        "deepnote_cell_type": "code",
        "colab": {
          "base_uri": "https://localhost:8080/"
        },
        "id": "z8-dRV3ayQwT",
        "outputId": "56db7845-723d-420f-dbf1-221d2df17e64"
      },
      "source": [
        "(t['p-value'] < 0.01).mean()"
      ],
      "execution_count": null,
      "outputs": [
        {
          "output_type": "execute_result",
          "data": {
            "text/plain": [
              "0.004"
            ]
          },
          "metadata": {},
          "execution_count": 17
        }
      ]
    },
    {
      "cell_type": "markdown",
      "metadata": {
        "tags": [],
        "cell_id": "b8733c8596a24d66808b1ec7fa253742",
        "is_collapsed": false,
        "formattedRanges": [],
        "deepnote_cell_type": "text-cell-p",
        "id": "cwjRYnXLyQwU"
      },
      "source": [
        "Вполне ок. И также с помощью ку-ку графика сравним распределение p-value c равномерным распределением."
      ]
    },
    {
      "cell_type": "code",
      "metadata": {
        "tags": [],
        "cell_id": "c017aa90b6b644219e57c6be3098deb4",
        "source_hash": "4ac0c466",
        "execution_start": 1676295168460,
        "execution_millis": 247,
        "deepnote_to_be_reexecuted": false,
        "deepnote_cell_type": "code",
        "colab": {
          "base_uri": "https://localhost:8080/",
          "height": 472
        },
        "id": "qGzQ3jYjyQwU",
        "outputId": "67283a18-8d03-47ff-b28d-3592d5eca578"
      },
      "source": [
        "import pylab\n",
        "import scipy.stats as stats\n",
        "\n",
        "stats.probplot(t['p-value'], dist=\"uniform\", plot=pylab)\n",
        "pylab.show()"
      ],
      "execution_count": null,
      "outputs": [
        {
          "output_type": "display_data",
          "data": {
            "text/plain": [
              "<Figure size 640x480 with 1 Axes>"
            ],
            "image/png": "[encoded data removed]"
          },
          "metadata": {}
        }
      ]
    },
    {
      "cell_type": "markdown",
      "metadata": {
        "tags": [],
        "cell_id": "3c722da0b74a4dc49c9bd02b943ee71a",
        "is_collapsed": false,
        "formattedRanges": [],
        "deepnote_cell_type": "text-cell-p",
        "id": "TzShl2hWyQwU"
      },
      "source": [
        "Распределение p-value равномерное, а значит ошибка первого рода всегда будет соответствовать альфе. T-test проверен со всех сторон."
      ]
    },
    {
      "cell_type": "markdown",
      "source": [
        "# Расчет размера выборок"
      ],
      "metadata": {
        "id": "5Gp2KFmqzj65"
      }
    },
    {
      "cell_type": "markdown",
      "metadata": {
        "tags": [],
        "cell_id": "7c83da1c-a6ee-4eb1-babd-76ba75d01418",
        "is_collapsed": false,
        "formattedRanges": [],
        "deepnote_cell_type": "text-cell-p",
        "id": "qI7kwYWyyQwU"
      },
      "source": [
        "Теперь уже можно взять все параметры и рассчитать необходимые размеры выборок. Это делается с помощью statsmodels."
      ]
    },
    {
      "cell_type": "code",
      "metadata": {
        "tags": [],
        "cell_id": "29810780c9b34200bbfacc91418009ab",
        "source_hash": "5a818892",
        "execution_start": 1676296002152,
        "execution_millis": 4468,
        "deepnote_to_be_reexecuted": false,
        "deepnote_cell_type": "code",
        "colab": {
          "base_uri": "https://localhost:8080/"
        },
        "id": "mUHuB1cOyQwU",
        "outputId": "799a4592-6215-4c15-cac1-9abcbb21d036"
      },
      "source": [
        "! pip install statsmodels"
      ],
      "execution_count": null,
      "outputs": [
        {
          "output_type": "stream",
          "name": "stdout",
          "text": [
            "Requirement already satisfied: statsmodels in /usr/local/lib/python3.10/dist-packages (0.14.1)\n",
            "Requirement already satisfied: numpy<2,>=1.18 in /usr/local/lib/python3.10/dist-packages (from statsmodels) (1.23.5)\n",
            "Requirement already satisfied: scipy!=1.9.2,>=1.4 in /usr/local/lib/python3.10/dist-packages (from statsmodels) (1.11.4)\n",
            "Requirement already satisfied: pandas!=2.1.0,>=1.0 in /usr/local/lib/python3.10/dist-packages (from statsmodels) (1.5.3)\n",
            "Requirement already satisfied: patsy>=0.5.4 in /usr/local/lib/python3.10/dist-packages (from statsmodels) (0.5.6)\n",
            "Requirement already satisfied: packaging>=21.3 in /usr/local/lib/python3.10/dist-packages (from statsmodels) (23.2)\n",
            "Requirement already satisfied: python-dateutil>=2.8.1 in /usr/local/lib/python3.10/dist-packages (from pandas!=2.1.0,>=1.0->statsmodels) (2.8.2)\n",
            "Requirement already satisfied: pytz>=2020.1 in /usr/local/lib/python3.10/dist-packages (from pandas!=2.1.0,>=1.0->statsmodels) (2023.3.post1)\n",
            "Requirement already satisfied: six in /usr/local/lib/python3.10/dist-packages (from patsy>=0.5.4->statsmodels) (1.16.0)\n"
          ]
        }
      ]
    },
    {
      "cell_type": "code",
      "metadata": {
        "tags": [],
        "cell_id": "e2f32d6e35da444ea8ed0a8542ca05ea",
        "source_hash": "4855c035",
        "execution_start": 1676296029921,
        "execution_millis": 527,
        "deepnote_to_be_reexecuted": false,
        "deepnote_cell_type": "code",
        "id": "nn1GwIIcyQwU"
      },
      "source": [
        "import statsmodels.stats.api as sms"
      ],
      "execution_count": null,
      "outputs": []
    },
    {
      "cell_type": "markdown",
      "metadata": {
        "tags": [],
        "cell_id": "2cd586bb2c25480c8a80d9cdc598352a",
        "is_collapsed": false,
        "formattedRanges": [],
        "deepnote_cell_type": "text-cell-p",
        "id": "wKV7JSBbyQwU"
      },
      "source": [
        "Здесь нужно рассчитать размер эффекта по формуле: минимальный эффект (мы решили что это будет минимум 60 секунд) делить на стандартное отклонение. Сразу и посчитаем."
      ]
    },
    {
      "cell_type": "code",
      "metadata": {
        "tags": [],
        "cell_id": "e02fd15efbab4a589f1462f4f81a99a7",
        "source_hash": "c4b346bf",
        "execution_start": 1676296319860,
        "execution_millis": 0,
        "deepnote_to_be_reexecuted": false,
        "deepnote_cell_type": "code",
        "id": "xxrnKLjjyQwU"
      },
      "source": [
        "es = 60 / df['session_len'].std()"
      ],
      "execution_count": null,
      "outputs": []
    },
    {
      "cell_type": "code",
      "metadata": {
        "tags": [],
        "cell_id": "feaf5c2e565947e4922b64f184ad2959",
        "source_hash": "d365634b",
        "execution_start": 1676296320052,
        "execution_millis": 2,
        "deepnote_to_be_reexecuted": false,
        "deepnote_cell_type": "code",
        "colab": {
          "base_uri": "https://localhost:8080/"
        },
        "id": "PHe8z1GcyQwU",
        "outputId": "92307ef2-3c6e-496e-9693-1cc5867fe163"
      },
      "source": [
        "es"
      ],
      "execution_count": null,
      "outputs": [
        {
          "output_type": "execute_result",
          "data": {
            "text/plain": [
              "0.11525758357186915"
            ]
          },
          "metadata": {},
          "execution_count": 22
        }
      ]
    },
    {
      "cell_type": "markdown",
      "metadata": {
        "tags": [],
        "cell_id": "caa28e63c0354940a75d420ae17a6a5a",
        "is_collapsed": false,
        "formattedRanges": [],
        "deepnote_cell_type": "text-cell-p",
        "id": "8RMNqAOZyQwU"
      },
      "source": [
        "Не важно, что это такое, важно что это необходимо для использования этой функции. Теперь можем уже рассчитать необходимые размеры выборок."
      ]
    },
    {
      "cell_type": "code",
      "metadata": {
        "tags": [],
        "cell_id": "2afb02499e414bac969fc319149c38ff",
        "source_hash": "dfc50e4b",
        "execution_start": 1676297567088,
        "execution_millis": 3,
        "deepnote_to_be_reexecuted": false,
        "deepnote_cell_type": "code",
        "colab": {
          "base_uri": "https://localhost:8080/"
        },
        "id": "gkd8UUkgyQwU",
        "outputId": "eeabc7d1-df3e-4498-fb36-4bb2dfb8fe7d"
      },
      "source": [
        "sms.TTestIndPower().solve_power(es, power=0.90, alpha=0.01, ratio=1, alternative='two-sided')"
      ],
      "execution_count": null,
      "outputs": [
        {
          "output_type": "execute_result",
          "data": {
            "text/plain": [
              "2241.803908256248"
            ]
          },
          "metadata": {},
          "execution_count": 23
        }
      ]
    },
    {
      "cell_type": "markdown",
      "metadata": {
        "tags": [],
        "cell_id": "b11e829933924a70ad85254ff6d0a0fe",
        "is_collapsed": false,
        "formattedRanges": [],
        "deepnote_cell_type": "text-cell-p",
        "id": "p8ZlLtWjyQwV"
      },
      "source": [
        "Параметры здесь такие же, как и у z-test для пропорций, ничего необычного. И также можно задавать ratio: отношение размера тестовой группы к размеру контрольной группы."
      ]
    },
    {
      "cell_type": "markdown",
      "metadata": {
        "tags": [],
        "cell_id": "96f8b7ab4f96496c8325f9d15743104e",
        "is_collapsed": false,
        "formattedRanges": [],
        "deepnote_cell_type": "text-cell-p",
        "id": "1ePiSyk9yQwV"
      },
      "source": [
        "Получилось, что нам нужно всего 2242 наблюдения в каждой группе. А будет ли ти тест давать нормальные результаты при такой маленькой выборке? Посмотрим на распределение p-value для верной нулевой гипотезы при таких выборках."
      ]
    },
    {
      "cell_type": "code",
      "metadata": {
        "tags": [],
        "cell_id": "06c6a176e4c14c3c91c2e1083e765d65",
        "source_hash": "110fe81c",
        "execution_start": 1676296531668,
        "execution_millis": 1104,
        "deepnote_to_be_reexecuted": false,
        "deepnote_cell_type": "code",
        "id": "-rxuH9JoyQwV"
      },
      "source": [
        "n = 1000\n",
        "result = []\n",
        "for i in range(n):\n",
        "    a = df['session_len'].sample(2242,replace=True,random_state=i)\n",
        "    b = df['session_len'].sample(2242,replace=True,random_state=n-i)\n",
        "    pvalue = ttest_ind(a,b,equal_var=False,alternative='two-sided')[1]\n",
        "    result.append((a.mean(),b.mean(),abs(a.mean() - b.mean()),pvalue))"
      ],
      "execution_count": null,
      "outputs": []
    },
    {
      "cell_type": "code",
      "metadata": {
        "tags": [],
        "cell_id": "f5711b0ac5344cfd9c4cebd0093c27a4",
        "source_hash": "eedb77e0",
        "execution_start": 1676296532773,
        "execution_millis": 1,
        "deepnote_to_be_reexecuted": false,
        "deepnote_cell_type": "code",
        "id": "xfGBMAD8yQwV"
      },
      "source": [
        "t = pd.DataFrame(result,columns=['a_mean','b_mean','diff_abs','p-value'])"
      ],
      "execution_count": null,
      "outputs": []
    },
    {
      "cell_type": "code",
      "metadata": {
        "tags": [],
        "cell_id": "c3a8831dd8704945990a2839eb2ff98e",
        "source_hash": "4ac0c466",
        "execution_start": 1676296532998,
        "execution_millis": 220,
        "deepnote_to_be_reexecuted": false,
        "deepnote_cell_type": "code",
        "colab": {
          "base_uri": "https://localhost:8080/",
          "height": 472
        },
        "id": "tXTEOMlPyQwV",
        "outputId": "69b330b4-8127-4079-ef4a-ec6766269bec"
      },
      "source": [
        "import pylab\n",
        "import scipy.stats as stats\n",
        "\n",
        "stats.probplot(t['p-value'], dist=\"uniform\", plot=pylab)\n",
        "pylab.show()"
      ],
      "execution_count": null,
      "outputs": [
        {
          "output_type": "display_data",
          "data": {
            "text/plain": [
              "<Figure size 640x480 with 1 Axes>"
            ],
            "image/png": "[encoded data removed]"
          },
          "metadata": {}
        }
      ]
    },
    {
      "cell_type": "markdown",
      "metadata": {
        "tags": [],
        "cell_id": "9e295c7920364205b19460d5784c3a61",
        "is_collapsed": false,
        "formattedRanges": [],
        "deepnote_cell_type": "text-cell-p",
        "id": "iwhjmUWzyQwV"
      },
      "source": [
        "Тоже очень даже равномерное. Отлично."
      ]
    },
    {
      "cell_type": "markdown",
      "source": [
        "# Проверяем соответствует ли реальный TPR мощности"
      ],
      "metadata": {
        "id": "zbCDoeTbzvoR"
      }
    },
    {
      "cell_type": "markdown",
      "metadata": {
        "tags": [],
        "cell_id": "14f1de95-1d7f-4864-999f-5023e9819971",
        "is_collapsed": false,
        "formattedRanges": [],
        "deepnote_cell_type": "text-cell-p",
        "id": "02pYRObCyQwV"
      },
      "source": [
        "И теперь интересно проверить, будет ли у теста реально мощность 90% при таком размере выборки? Что нам для этого нужно? Распределение соответствующее альтернативной гипотезе. И если в случае с конверсией распределение всегда было биномиальное и мы легко могли его получить, то в случае с непрерывными переменными все намного сложнее."
      ]
    },
    {
      "cell_type": "markdown",
      "metadata": {
        "tags": [],
        "cell_id": "dcbbccfa-96e7-4429-b7a2-e6a932b6cc96",
        "is_collapsed": false,
        "formattedRanges": [],
        "deepnote_cell_type": "text-cell-p",
        "id": "lHtFkB1gyQwV"
      },
      "source": [
        "Непрерывных распределений существует огромное количество, и мы можем даже не знать тип того распределения, с которым мы имеем дело. И даже если мы попытаемся установить тип распределения, то нет никакой гарантии, что мы сделали это правильно – это непростая задача."
      ]
    },
    {
      "cell_type": "markdown",
      "metadata": {
        "tags": [],
        "cell_id": "2df747d4-3c36-4d26-8b31-3c857b604407",
        "is_collapsed": false,
        "formattedRanges": [],
        "deepnote_cell_type": "text-cell-p",
        "id": "LT53hgt-yQwV"
      },
      "source": [
        "Что самое простое мы можем сделать, чтобы получить распределение со средним, которое больше на 60 секунд? Можно просто прибавить 60 к каждому наблюдению в нашей выборке!"
      ]
    },
    {
      "cell_type": "markdown",
      "metadata": {
        "tags": [],
        "cell_id": "3af03aee4bae4732b223938d640b3a5c",
        "is_collapsed": false,
        "formattedRanges": [],
        "deepnote_cell_type": "text-cell-p",
        "id": "GLKiZO6VyQwV"
      },
      "source": [
        "Вот исходное среднее."
      ]
    },
    {
      "cell_type": "code",
      "metadata": {
        "tags": [],
        "cell_id": "99b5f1c488d74a50927c61ff9c32e35a",
        "source_hash": "90b3280e",
        "execution_start": 1676297018500,
        "execution_millis": 3,
        "deepnote_to_be_reexecuted": false,
        "deepnote_cell_type": "code",
        "colab": {
          "base_uri": "https://localhost:8080/"
        },
        "id": "OxeY5Kj7yQwW",
        "outputId": "f9da5eaf-9614-4cc6-b0a6-9abade7c91ba"
      },
      "source": [
        "df['session_len'].mean()"
      ],
      "execution_count": null,
      "outputs": [
        {
          "output_type": "execute_result",
          "data": {
            "text/plain": [
              "551.7592711731097"
            ]
          },
          "metadata": {},
          "execution_count": 27
        }
      ]
    },
    {
      "cell_type": "markdown",
      "metadata": {
        "tags": [],
        "cell_id": "f6807962d04d4095b28b0fc9064a495e",
        "is_collapsed": false,
        "formattedRanges": [],
        "deepnote_cell_type": "text-cell-p",
        "id": "bt8s_YxqyQwW"
      },
      "source": [
        "Вот измененное."
      ]
    },
    {
      "cell_type": "code",
      "metadata": {
        "tags": [],
        "cell_id": "c8079f96f9d948d2aeda1259652a94b7",
        "source_hash": "10bda571",
        "execution_start": 1676297027942,
        "execution_millis": 5,
        "deepnote_to_be_reexecuted": false,
        "deepnote_cell_type": "code",
        "colab": {
          "base_uri": "https://localhost:8080/"
        },
        "id": "Tc9J2461yQwW",
        "outputId": "98d2ef0d-ed90-46b9-c12b-f5cc434adba5"
      },
      "source": [
        "(df['session_len'] + 60).mean()"
      ],
      "execution_count": null,
      "outputs": [
        {
          "output_type": "execute_result",
          "data": {
            "text/plain": [
              "611.7592711731098"
            ]
          },
          "metadata": {},
          "execution_count": 28
        }
      ]
    },
    {
      "cell_type": "markdown",
      "metadata": {
        "tags": [],
        "cell_id": "283e3cec195f414e9c3a8407e0615935",
        "is_collapsed": false,
        "formattedRanges": [],
        "deepnote_cell_type": "text-cell-p",
        "id": "6BXlqUptyQwW"
      },
      "source": [
        "Это очень грубый трюк, т.к. в реальности среднее может повыситься например за счет того, что у нас появится больше длинных сессий, а короткие ни как не изменятся. Но это хоть что-то."
      ]
    },
    {
      "cell_type": "markdown",
      "metadata": {
        "tags": [],
        "cell_id": "c5664bea-b0fa-4e9d-869c-260b0e6c113e",
        "is_collapsed": false,
        "formattedRanges": [],
        "deepnote_cell_type": "text-cell-p",
        "id": "jYM2U6HKyQwW"
      },
      "source": [
        "Посчитаем мощность для распределения альтернативной гипотезы полученного таким образом."
      ]
    },
    {
      "cell_type": "code",
      "metadata": {
        "tags": [],
        "cell_id": "cb8fc8a6ed664afc9966d274333b782e",
        "source_hash": "18fa98e4",
        "execution_start": 1676297149484,
        "execution_millis": 1137,
        "deepnote_to_be_reexecuted": false,
        "deepnote_cell_type": "code",
        "id": "FcmTHy5vyQwW"
      },
      "source": [
        "n = 1000\n",
        "result = []\n",
        "for i in range(n):\n",
        "    a = df['session_len'].sample(2242,replace=True,random_state=i)\n",
        "    b = (df['session_len'] + 60).sample(2242,replace=True,random_state=n-i)\n",
        "    pvalue = ttest_ind(a,b,equal_var=False,alternative='two-sided')[1]\n",
        "    result.append((a.mean(),b.mean(),abs(a.mean() - b.mean()),pvalue))"
      ],
      "execution_count": null,
      "outputs": []
    },
    {
      "cell_type": "code",
      "metadata": {
        "tags": [],
        "cell_id": "b036ee82f6d14d10b2a07f36dcf17e21",
        "source_hash": "eedb77e0",
        "execution_start": 1676297160258,
        "execution_millis": 1,
        "deepnote_to_be_reexecuted": false,
        "deepnote_cell_type": "code",
        "id": "AcfZLc_nyQwW"
      },
      "source": [
        "t = pd.DataFrame(result,columns=['a_mean','b_mean','diff_abs','p-value'])"
      ],
      "execution_count": null,
      "outputs": []
    },
    {
      "cell_type": "markdown",
      "metadata": {
        "tags": [],
        "cell_id": "650a789970874e3cb48087a47a27c672",
        "is_collapsed": false,
        "formattedRanges": [],
        "deepnote_cell_type": "text-cell-p",
        "id": "dwXG9S-0yQwW"
      },
      "source": [
        "Отвергнем нулевую гипотезу при альфа равной 1% и посчитаем долю отвергнутых нулевых гипотез."
      ]
    },
    {
      "cell_type": "code",
      "metadata": {
        "tags": [],
        "cell_id": "ef0404530422489380e59a63e03f80b8",
        "source_hash": "52abc27",
        "execution_start": 1676297213161,
        "execution_millis": 3,
        "deepnote_to_be_reexecuted": false,
        "deepnote_cell_type": "code",
        "colab": {
          "base_uri": "https://localhost:8080/"
        },
        "id": "Cdfwnz7IyQwW",
        "outputId": "13659ff4-150a-4fad-fb46-0bdc578ba91c"
      },
      "source": [
        "(t['p-value'] < 0.01).mean()"
      ],
      "execution_count": null,
      "outputs": [
        {
          "output_type": "execute_result",
          "data": {
            "text/plain": [
              "0.915"
            ]
          },
          "metadata": {},
          "execution_count": 31
        }
      ]
    },
    {
      "cell_type": "markdown",
      "metadata": {
        "tags": [],
        "cell_id": "c7212c6fa10e4286888331389c587d1b",
        "is_collapsed": false,
        "formattedRanges": [],
        "deepnote_cell_type": "text-cell-p",
        "id": "6Qfxpu8syQwW"
      },
      "source": [
        "Мощность соответствует нашим расчетам! Круто."
      ]
    },
    {
      "cell_type": "markdown",
      "metadata": {
        "tags": [],
        "cell_id": "91e19c9e-efb5-42cd-b01e-ba320e55772d",
        "is_collapsed": false,
        "formattedRanges": [],
        "deepnote_cell_type": "text-cell-p",
        "id": "ISSdQKUOyQwW"
      },
      "source": [
        "То, что мы не можем нормально симулировать распределение альтернативной гипотезы создает нам только одну проблему: мы не можем подбирать размеры выборки с помощью бутстрапа, т.к. нам неоткуда генерить выборки соответствующие нулевой гипотезе. Но хорошо, что у нас есть ти тест, которому вообще не важно какое распределение имеет переменная, которую мы исследуем: лишь бы выборочное среднее было распределено нормально. И мы всегда можем это проверить и понять пригоден ли ти-тест в каждом конкретном случае."
      ]
    },
    {
      "cell_type": "markdown",
      "source": [
        "# Увеличиваем значимость"
      ],
      "metadata": {
        "id": "diGjshxC0Vdo"
      }
    },
    {
      "cell_type": "markdown",
      "metadata": {
        "tags": [],
        "cell_id": "585617bc-a50f-4800-a3c4-9c0968ebf09c",
        "is_collapsed": false,
        "formattedRanges": [],
        "deepnote_cell_type": "text-cell-p",
        "id": "uIXie5pVyQwX"
      },
      "source": [
        "Кстати, в этом случае, мы можем себе позволить альфу в 0.1%. Давай попробуем посмотреть размеры выборки при такой альфе."
      ]
    },
    {
      "cell_type": "code",
      "metadata": {
        "tags": [],
        "cell_id": "00c788013317457fbcf5c852657ed8b2",
        "deepnote_cell_type": "code",
        "id": "TNqUzCDayQwX"
      },
      "source": [
        "es = 60 / df['session_len'].std()\n"
      ],
      "execution_count": null,
      "outputs": []
    },
    {
      "cell_type": "code",
      "metadata": {
        "tags": [],
        "cell_id": "b2bd65c07b094294b2e87c588960f839",
        "source_hash": "b01b112e",
        "execution_start": 1676298049884,
        "execution_millis": 2,
        "deepnote_to_be_reexecuted": false,
        "deepnote_cell_type": "code",
        "colab": {
          "base_uri": "https://localhost:8080/"
        },
        "id": "k7P3IC3byQwX",
        "outputId": "b43bac03-2da4-4aff-9ddb-9e0c8d019444"
      },
      "source": [
        "sms.TTestIndPower().solve_power(es, power=0.90, alpha=0.001, ratio=1, alternative='two-sided')"
      ],
      "execution_count": null,
      "outputs": [
        {
          "output_type": "execute_result",
          "data": {
            "text/plain": [
              "3149.8636773334183"
            ]
          },
          "metadata": {},
          "execution_count": 33
        }
      ]
    },
    {
      "cell_type": "markdown",
      "metadata": {
        "tags": [],
        "cell_id": "569d7599aa4244e9ac56b077d8e18d0c",
        "is_collapsed": false,
        "formattedRanges": [],
        "deepnote_cell_type": "text-cell-p",
        "id": "czBekAT3yQwX"
      },
      "source": [
        "Размер выборки вырос не сильно. Можем еще уменьшить минимальный эффект и повысить мощность."
      ]
    },
    {
      "cell_type": "code",
      "metadata": {
        "tags": [],
        "cell_id": "ca18a41752d14fb79a343f40d3af60c6",
        "source_hash": "255f3ab9",
        "execution_start": 1676298123448,
        "execution_millis": 2,
        "deepnote_to_be_reexecuted": false,
        "deepnote_cell_type": "code",
        "colab": {
          "base_uri": "https://localhost:8080/"
        },
        "id": "mFA4KRmUyQwX",
        "outputId": "17449c10-1a43-4b06-99c4-f3e2eeca874e"
      },
      "source": [
        "es = 30 / df['session_len'].std()\n",
        "sms.TTestIndPower().solve_power(es, power=0.95, alpha=0.001, ratio=1, alternative='two-sided')\n"
      ],
      "execution_count": null,
      "outputs": [
        {
          "output_type": "execute_result",
          "data": {
            "text/plain": [
              "14671.428299061146"
            ]
          },
          "metadata": {},
          "execution_count": 34
        }
      ]
    },
    {
      "cell_type": "markdown",
      "metadata": {
        "tags": [],
        "cell_id": "93e8b3226fc542e4a2192abd1cb217e6",
        "is_collapsed": false,
        "formattedRanges": [],
        "deepnote_cell_type": "text-cell-p",
        "id": "ZYx9eD7VyQwX"
      },
      "source": [
        "Чтобы провести тест с минимальным эффектом в 30 секунд, мощностью 95% и вероятностью ошибки первого рода в 0.1% потребуется 14671 наблюдений как в контрольной, так и в тестовой группе. Поскольку мы работаем в X, то вполне можем позволить себе выборки таких размеров."
      ]
    },
    {
      "cell_type": "markdown",
      "metadata": {
        "tags": [],
        "cell_id": "1a1d301d-bd52-4844-b798-503f1056a19f",
        "is_collapsed": false,
        "formattedRanges": [],
        "deepnote_cell_type": "text-cell-p",
        "id": "YvlV3nucyQwX"
      },
      "source": [
        "Вообще в больших интернет компаниях обычно используют очень маленькие альфы, даже меньше чем 0.1%. Во-первых, они могут себе это позволить, т.к. пользователей много, а во вторых это позволяет нивелировать эффект множественной проверки гипотез."
      ]
    },
    {
      "cell_type": "markdown",
      "metadata": {
        "tags": [],
        "cell_id": "db5b7ee4-05cb-4acc-a434-d17a447bb5a2",
        "is_collapsed": false,
        "formattedRanges": [],
        "deepnote_cell_type": "text-cell-p",
        "id": "7epZmHzryQwX"
      },
      "source": [
        "О множественной проверке надо говорить отдельно, но если вкратце, то когда одновременно проводится много тестов, то повышается вероятность чисто случайно \"словить\" значимые результаты."
      ]
    },
    {
      "cell_type": "markdown",
      "source": [
        "# Оценка результатов"
      ],
      "metadata": {
        "id": "ywUGyvsj0dkU"
      }
    },
    {
      "cell_type": "markdown",
      "metadata": {
        "tags": [],
        "cell_id": "a10d5a26-d251-4f3e-b51d-bd54640cbec4",
        "is_collapsed": false,
        "formattedRanges": [],
        "deepnote_cell_type": "text-cell-p",
        "id": "o099V1mTyQwX"
      },
      "source": [
        "Закончим пример с X. Я провел А/Б тест с высчитанными нами размерами выборок и получил следующие результаты. (Снова воспользуюсь логнормальным распределением)"
      ]
    },
    {
      "cell_type": "markdown",
      "metadata": {
        "tags": [],
        "cell_id": "887465be5c2c4940b7e8426c03704798",
        "is_collapsed": false,
        "formattedRanges": [],
        "deepnote_cell_type": "text-cell-p",
        "id": "lcH_xpIgyQwX"
      },
      "source": [
        "Сгенерим контрольную группу."
      ]
    },
    {
      "cell_type": "code",
      "metadata": {
        "tags": [],
        "cell_id": "bc34ddbb6f1e447cbf4ed632db34795c",
        "source_hash": "5c4b069c",
        "execution_start": 1676299108347,
        "execution_millis": 0,
        "deepnote_to_be_reexecuted": false,
        "deepnote_cell_type": "code",
        "id": "rLUwYwVEyQwX"
      },
      "source": [
        "np.random.seed(0)\n",
        "a = np.random.lognormal(6.01,0.8,size=14700)"
      ],
      "execution_count": null,
      "outputs": []
    },
    {
      "cell_type": "markdown",
      "metadata": {
        "tags": [],
        "cell_id": "8ad58637182648d98c79e16aa1d97ecd",
        "is_collapsed": false,
        "formattedRanges": [],
        "deepnote_cell_type": "text-cell-p",
        "id": "F32iE6qFyQwX"
      },
      "source": [
        "Сгенерим тестовую группу."
      ]
    },
    {
      "cell_type": "code",
      "metadata": {
        "tags": [],
        "cell_id": "1acf72c2b62540ecbe108778f82dd080",
        "source_hash": "1afcd96d",
        "execution_start": 1676299119985,
        "execution_millis": 3,
        "deepnote_to_be_reexecuted": false,
        "deepnote_cell_type": "code",
        "id": "1bS3Cb-EyQwY"
      },
      "source": [
        "np.random.seed(0)\n",
        "b = np.random.lognormal(6.09,0.76,size=14690)"
      ],
      "execution_count": null,
      "outputs": []
    },
    {
      "cell_type": "markdown",
      "metadata": {
        "tags": [],
        "cell_id": "fd24bc0002644523ab8b5022e2c4f298",
        "is_collapsed": false,
        "formattedRanges": [],
        "deepnote_cell_type": "text-cell-p",
        "id": "0tov6e-LyQwY"
      },
      "source": [
        "Среднее в контрольной группе получилось"
      ]
    },
    {
      "cell_type": "code",
      "metadata": {
        "tags": [],
        "cell_id": "5b6f5c231f0d4cb58ef2df24cb72a1d8",
        "source_hash": "ea4dbfe2",
        "execution_start": 1676299133599,
        "execution_millis": 6,
        "deepnote_to_be_reexecuted": false,
        "deepnote_cell_type": "code",
        "colab": {
          "base_uri": "https://localhost:8080/"
        },
        "id": "xc-d9HRHyQwY",
        "outputId": "3eea659d-45d2-4a11-e1e1-07aeb1ab24c4"
      },
      "source": [
        "a.mean()"
      ],
      "execution_count": null,
      "outputs": [
        {
          "output_type": "execute_result",
          "data": {
            "text/plain": [
              "554.2418516752615"
            ]
          },
          "metadata": {},
          "execution_count": 37
        }
      ]
    },
    {
      "cell_type": "markdown",
      "metadata": {
        "tags": [],
        "cell_id": "77805f355a9e4a8e9f2b30bb5075bee1",
        "is_collapsed": false,
        "formattedRanges": [],
        "deepnote_cell_type": "text-cell-p",
        "id": "ADO-m5zTyQwY"
      },
      "source": [
        "Среднее в тестовой получилось"
      ]
    },
    {
      "cell_type": "code",
      "metadata": {
        "tags": [],
        "cell_id": "b4a94a5edb244ec98b55d4c99094982e",
        "source_hash": "14e6af17",
        "execution_start": 1676299144904,
        "execution_millis": 1,
        "deepnote_to_be_reexecuted": false,
        "deepnote_cell_type": "code",
        "colab": {
          "base_uri": "https://localhost:8080/"
        },
        "id": "u8LX75MgyQwY",
        "outputId": "b97832a1-3d1c-4389-ba50-f5221b911478"
      },
      "source": [
        "b.mean()"
      ],
      "execution_count": null,
      "outputs": [
        {
          "output_type": "execute_result",
          "data": {
            "text/plain": [
              "582.4048873495988"
            ]
          },
          "metadata": {},
          "execution_count": 38
        }
      ]
    },
    {
      "cell_type": "markdown",
      "metadata": {
        "tags": [],
        "cell_id": "1d6c2dc7c22c4cf99f6d339ce4c39def",
        "is_collapsed": false,
        "formattedRanges": [],
        "deepnote_cell_type": "text-cell-p",
        "id": "9tEBMuXxyQwY"
      },
      "source": [
        "Теперь посчитаем p-value, т.е. вероятность получить минимум такую разницу между группами, при условии, что средние на самом деле равны."
      ]
    },
    {
      "cell_type": "code",
      "metadata": {
        "tags": [],
        "cell_id": "0c7f5a1b976749f1ab15d5872568a5c7",
        "source_hash": "513e142e",
        "execution_start": 1676299222076,
        "execution_millis": 2,
        "deepnote_to_be_reexecuted": false,
        "deepnote_cell_type": "code",
        "colab": {
          "base_uri": "https://localhost:8080/"
        },
        "id": "QJC4XOGqyQwY",
        "outputId": "e7b1d8f6-14f3-4822-882b-8b6a946a0dd3"
      },
      "source": [
        "ttest_ind(a,b,equal_var=False,alternative='two-sided')"
      ],
      "execution_count": null,
      "outputs": [
        {
          "output_type": "execute_result",
          "data": {
            "text/plain": [
              "TtestResult(statistic=-4.655821612779527, pvalue=3.2410094260042674e-06, df=29379.0510219584)"
            ]
          },
          "metadata": {},
          "execution_count": 39
        }
      ]
    },
    {
      "cell_type": "markdown",
      "metadata": {
        "tags": [],
        "cell_id": "54ce4d7aec8948f09adfecee1813b6b6",
        "is_collapsed": false,
        "formattedRanges": [],
        "deepnote_cell_type": "text-cell-p",
        "id": "pgjRyojzyQwY"
      },
      "source": [
        "Тут p-value вывелось в виде научной нотации: e-06 означает 10 в степени -6. Т.е. здесь p-value получилось равным 3 * 10 ** -6 – это меньше чем выбранная нами альфа в 0.1% или 0.001. Поэтому я отвергаю нулевую гипотезу о том, что группы имеют равное среднее в пользу альтернативной гипотезы: среднее в контрольной группе не равно среднему в тестовой группе."
      ]
    },
    {
      "cell_type": "markdown",
      "metadata": {
        "tags": [],
        "cell_id": "267de0fa-7af7-4b20-96cd-7bc24afa484f",
        "is_collapsed": false,
        "formattedRanges": [],
        "deepnote_cell_type": "text-cell-p",
        "id": "f_g8sO_SyQwY"
      },
      "source": [
        "У меня получился значимый тест, средние не равны и по данным я вижу, что тестовая группа имеет более длинную пользовательскую сессию. Значит, я делаю вывод, что изменение в рекомендательной системе оказало положительный эффект и могу раскатывать это изменение для всех пользователей."
      ]
    }
  ],
  "nbformat": 4,
  "nbformat_minor": 0,
  "metadata": {
    "deepnote_persisted_session": {
      "createdAt": "2023-02-13T15:45:08.360Z"
    },
    "deepnote_notebook_id": "83ecdf602d004a71a65ea2385aa5a6f8",
    "deepnote_execution_queue": [],
    "colab": {
      "provenance": [],
      "toc_visible": true,
      "include_colab_link": true
    },
    "language_info": {
      "name": "python"
    },
    "kernelspec": {
      "name": "python3",
      "display_name": "Python 3"
    }
  }
}